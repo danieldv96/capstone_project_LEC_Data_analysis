{
 "cells": [
  {
   "cell_type": "code",
   "execution_count": null,
   "metadata": {},
   "outputs": [],
   "source": []
  }
 ],
 "metadata": {
  "kernelspec": {
   "display_name": "Python 3.10.4 ('venv': venv)",
   "language": "python",
   "name": "python3"
  },
  "language_info": {
   "name": "python",
   "version": "3.10.4"
  },
  "orig_nbformat": 4,
  "vscode": {
   "interpreter": {
    "hash": "d7503452d60ed79d5cbd9a20ab439c38c8233e71c3cb7a5e8ddd778e95724e46"
   }
  }
 },
 "nbformat": 4,
 "nbformat_minor": 2
}
