{
 "cells": [
  {
   "cell_type": "code",
   "execution_count": 2,
   "metadata": {},
   "outputs": [],
   "source": [
    "import pandas as pd\n",
    "import numpy as np"
   ]
  },
  {
   "cell_type": "code",
   "execution_count": 4,
   "metadata": {},
   "outputs": [],
   "source": [
    "df = pd.read_csv('lol.csv', sep=\",\")"
   ]
  },
  {
   "cell_type": "code",
   "execution_count": 5,
   "metadata": {},
   "outputs": [
    {
     "data": {
      "text/html": [
       "<div>\n",
       "<style scoped>\n",
       "    .dataframe tbody tr th:only-of-type {\n",
       "        vertical-align: middle;\n",
       "    }\n",
       "\n",
       "    .dataframe tbody tr th {\n",
       "        vertical-align: top;\n",
       "    }\n",
       "\n",
       "    .dataframe thead th {\n",
       "        text-align: right;\n",
       "    }\n",
       "</style>\n",
       "<table border=\"1\" class=\"dataframe\">\n",
       "  <thead>\n",
       "    <tr style=\"text-align: right;\">\n",
       "      <th></th>\n",
       "      <th>url</th>\n",
       "      <th>week</th>\n",
       "      <th>patch</th>\n",
       "      <th>Team 1</th>\n",
       "      <th>team 2</th>\n",
       "      <th>Side</th>\n",
       "    </tr>\n",
       "  </thead>\n",
       "  <tbody>\n",
       "    <tr>\n",
       "      <th>0</th>\n",
       "      <td>https://lol.fandom.com/wiki/LEC/2020_Season/Sp...</td>\n",
       "      <td>NaN</td>\n",
       "      <td>10.1,10.2,10.2,10.3,10.3,10.4,10.4,10.5,10.6</td>\n",
       "      <td>G2,MAD,VIT,SK,MSF,RGE,S04,XL,FNC,OG,VIT,MAD,RG...</td>\n",
       "      <td>1 - 0,0 - 1,0 - 1,0 - 1,0 - 1,0 - 1,1 - 0,0 - ...</td>\n",
       "      <td>G2,MAD, • , • , • ,SK,VIT, • , • , • ,RGE,MSF,...</td>\n",
       "    </tr>\n",
       "    <tr>\n",
       "      <th>1</th>\n",
       "      <td>https://lol.fandom.com/wiki/LEC/2020_Season/Su...</td>\n",
       "      <td>NaN</td>\n",
       "      <td>10.11,10.12,10.12,10.13,10.14,10.14,10.15,10.15</td>\n",
       "      <td>MAD,G2,VIT,S04,OG,SK,RGE,XL,MSF,FNC,S04,SK,RGE...</td>\n",
       "      <td>0 - 1,1 - 0,0 - 1,1 - 0,0 - 1,0 - 1,1 - 0,0 - ...</td>\n",
       "      <td>G2,MAD, • , • , • ,VIT,S04, • , • , • ,SK,OG, ...</td>\n",
       "    </tr>\n",
       "    <tr>\n",
       "      <th>2</th>\n",
       "      <td>https://lol.fandom.com/wiki/LEC/2022_Season/Su...</td>\n",
       "      <td>VODs &amp; Match Links,Week 1,Week 2,Week 3,Week 4...</td>\n",
       "      <td>12.11,12.11,12.12,12.12,12.13,12.13,12.14,12.1...</td>\n",
       "      <td>VIT,MAD,BDS,SK,MSF,XL,G2,AST,RGE,FNC,BDS,AST,S...</td>\n",
       "      <td>0 - 1,0 - 1,0 - 1,1 - 0,0 - 1,0 - 1,0 - 1,1 - ...</td>\n",
       "      <td>VIT,MAD, • , • ,SK,BDS, • , • ,XL,MSF, • , • ,...</td>\n",
       "    </tr>\n",
       "    <tr>\n",
       "      <th>3</th>\n",
       "      <td>https://lol.fandom.com/wiki/LEC/2022_Season/Sp...</td>\n",
       "      <td>VODs &amp; Match Links,Week 1,Week 2,Week 3,Week 4...</td>\n",
       "      <td>12.1,12.1,12.2,12.2,12.3,12.3,12.4,12.4</td>\n",
       "      <td>VIT,MAD,SK,RGE,G2,XL,MSF,AST,BDS,FNC,RGE,MSF,B...</td>\n",
       "      <td>0 - 1,0 - 1,1 - 0,1 - 0,0 - 1,1 - 0,1 - 0,1 - ...</td>\n",
       "      <td>MAD,VIT, • , • ,RGE,SK, • , • ,XL,G2, • , • ,A...</td>\n",
       "    </tr>\n",
       "    <tr>\n",
       "      <th>4</th>\n",
       "      <td>https://lol.fandom.com/wiki/LEC/2021_Season/Sp...</td>\n",
       "      <td>VODs &amp; Match Links,Week 1,Week 2,Week 3,Week 4...</td>\n",
       "      <td>11.1,11.2,11.2,11.3,11.3,11.4,11.4,11.5</td>\n",
       "      <td>G2,MAD,AST,SK,RGE,XL,VIT,S04,MSF,FNC,S04,XL,VI...</td>\n",
       "      <td>1 - 0,0 - 1,1 - 0,0 - 1,1 - 0,0 - 1,1 - 0,1 - ...</td>\n",
       "      <td>G2,MAD, • , • ,AST,SK, • , • ,RGE,XL, • , • ,V...</td>\n",
       "    </tr>\n",
       "  </tbody>\n",
       "</table>\n",
       "</div>"
      ],
      "text/plain": [
       "                                                 url  \\\n",
       "0  https://lol.fandom.com/wiki/LEC/2020_Season/Sp...   \n",
       "1  https://lol.fandom.com/wiki/LEC/2020_Season/Su...   \n",
       "2  https://lol.fandom.com/wiki/LEC/2022_Season/Su...   \n",
       "3  https://lol.fandom.com/wiki/LEC/2022_Season/Sp...   \n",
       "4  https://lol.fandom.com/wiki/LEC/2021_Season/Sp...   \n",
       "\n",
       "                                                week  \\\n",
       "0                                                NaN   \n",
       "1                                                NaN   \n",
       "2  VODs & Match Links,Week 1,Week 2,Week 3,Week 4...   \n",
       "3  VODs & Match Links,Week 1,Week 2,Week 3,Week 4...   \n",
       "4  VODs & Match Links,Week 1,Week 2,Week 3,Week 4...   \n",
       "\n",
       "                                               patch  \\\n",
       "0       10.1,10.2,10.2,10.3,10.3,10.4,10.4,10.5,10.6   \n",
       "1    10.11,10.12,10.12,10.13,10.14,10.14,10.15,10.15   \n",
       "2  12.11,12.11,12.12,12.12,12.13,12.13,12.14,12.1...   \n",
       "3            12.1,12.1,12.2,12.2,12.3,12.3,12.4,12.4   \n",
       "4            11.1,11.2,11.2,11.3,11.3,11.4,11.4,11.5   \n",
       "\n",
       "                                              Team 1  \\\n",
       "0  G2,MAD,VIT,SK,MSF,RGE,S04,XL,FNC,OG,VIT,MAD,RG...   \n",
       "1  MAD,G2,VIT,S04,OG,SK,RGE,XL,MSF,FNC,S04,SK,RGE...   \n",
       "2  VIT,MAD,BDS,SK,MSF,XL,G2,AST,RGE,FNC,BDS,AST,S...   \n",
       "3  VIT,MAD,SK,RGE,G2,XL,MSF,AST,BDS,FNC,RGE,MSF,B...   \n",
       "4  G2,MAD,AST,SK,RGE,XL,VIT,S04,MSF,FNC,S04,XL,VI...   \n",
       "\n",
       "                                              team 2  \\\n",
       "0  1 - 0,0 - 1,0 - 1,0 - 1,0 - 1,0 - 1,1 - 0,0 - ...   \n",
       "1  0 - 1,1 - 0,0 - 1,1 - 0,0 - 1,0 - 1,1 - 0,0 - ...   \n",
       "2  0 - 1,0 - 1,0 - 1,1 - 0,0 - 1,0 - 1,0 - 1,1 - ...   \n",
       "3  0 - 1,0 - 1,1 - 0,1 - 0,0 - 1,1 - 0,1 - 0,1 - ...   \n",
       "4  1 - 0,0 - 1,1 - 0,0 - 1,1 - 0,0 - 1,1 - 0,1 - ...   \n",
       "\n",
       "                                                Side  \n",
       "0  G2,MAD, • , • , • ,SK,VIT, • , • , • ,RGE,MSF,...  \n",
       "1  G2,MAD, • , • , • ,VIT,S04, • , • , • ,SK,OG, ...  \n",
       "2  VIT,MAD, • , • ,SK,BDS, • , • ,XL,MSF, • , • ,...  \n",
       "3  MAD,VIT, • , • ,RGE,SK, • , • ,XL,G2, • , • ,A...  \n",
       "4  G2,MAD, • , • ,AST,SK, • , • ,RGE,XL, • , • ,V...  "
      ]
     },
     "execution_count": 5,
     "metadata": {},
     "output_type": "execute_result"
    }
   ],
   "source": [
    "df.head(5)"
   ]
  },
  {
   "cell_type": "code",
   "execution_count": 6,
   "metadata": {},
   "outputs": [
    {
     "data": {
      "text/plain": [
       "0    G2,MAD,VIT,SK,MSF,RGE,S04,XL,FNC,OG,VIT,MAD,RG...\n",
       "1    MAD,G2,VIT,S04,OG,SK,RGE,XL,MSF,FNC,S04,SK,RGE...\n",
       "2    VIT,MAD,BDS,SK,MSF,XL,G2,AST,RGE,FNC,BDS,AST,S...\n",
       "3    VIT,MAD,SK,RGE,G2,XL,MSF,AST,BDS,FNC,RGE,MSF,B...\n",
       "4    G2,MAD,AST,SK,RGE,XL,VIT,S04,MSF,FNC,S04,XL,VI...\n",
       "Name: Team 1, dtype: object"
      ]
     },
     "execution_count": 6,
     "metadata": {},
     "output_type": "execute_result"
    }
   ],
   "source": [
    "df[\"Team 1\"].head()"
   ]
  },
  {
   "cell_type": "code",
   "execution_count": 7,
   "metadata": {},
   "outputs": [
    {
     "data": {
      "text/html": [
       "<div>\n",
       "<style scoped>\n",
       "    .dataframe tbody tr th:only-of-type {\n",
       "        vertical-align: middle;\n",
       "    }\n",
       "\n",
       "    .dataframe tbody tr th {\n",
       "        vertical-align: top;\n",
       "    }\n",
       "\n",
       "    .dataframe thead th {\n",
       "        text-align: right;\n",
       "    }\n",
       "</style>\n",
       "<table border=\"1\" class=\"dataframe\">\n",
       "  <thead>\n",
       "    <tr style=\"text-align: right;\">\n",
       "      <th></th>\n",
       "      <th>url</th>\n",
       "      <th>week</th>\n",
       "      <th>patch</th>\n",
       "      <th>Team 1</th>\n",
       "      <th>team 2</th>\n",
       "      <th>Side</th>\n",
       "    </tr>\n",
       "  </thead>\n",
       "  <tbody>\n",
       "    <tr>\n",
       "      <th>0</th>\n",
       "      <td>https://lol.fandom.com/wiki/LEC/2020_Season/Sp...</td>\n",
       "      <td>NaN</td>\n",
       "      <td>10.1,10.2,10.2,10.3,10.3,10.4,10.4,10.5,10.6</td>\n",
       "      <td>G2,MAD,VIT,SK,MSF,RGE,S04,XL,FNC,OG,VIT,MAD,RG...</td>\n",
       "      <td>1 - 0,0 - 1,0 - 1,0 - 1,0 - 1,0 - 1,1 - 0,0 - ...</td>\n",
       "      <td>G2,MAD, • , • , • ,SK,VIT, • , • , • ,RGE,MSF,...</td>\n",
       "    </tr>\n",
       "    <tr>\n",
       "      <th>1</th>\n",
       "      <td>https://lol.fandom.com/wiki/LEC/2020_Season/Su...</td>\n",
       "      <td>NaN</td>\n",
       "      <td>10.11,10.12,10.12,10.13,10.14,10.14,10.15,10.15</td>\n",
       "      <td>MAD,G2,VIT,S04,OG,SK,RGE,XL,MSF,FNC,S04,SK,RGE...</td>\n",
       "      <td>0 - 1,1 - 0,0 - 1,1 - 0,0 - 1,0 - 1,1 - 0,0 - ...</td>\n",
       "      <td>G2,MAD, • , • , • ,VIT,S04, • , • , • ,SK,OG, ...</td>\n",
       "    </tr>\n",
       "    <tr>\n",
       "      <th>2</th>\n",
       "      <td>https://lol.fandom.com/wiki/LEC/2022_Season/Su...</td>\n",
       "      <td>VODs &amp; Match Links,Week 1,Week 2,Week 3,Week 4...</td>\n",
       "      <td>12.11,12.11,12.12,12.12,12.13,12.13,12.14,12.1...</td>\n",
       "      <td>VIT,MAD,BDS,SK,MSF,XL,G2,AST,RGE,FNC,BDS,AST,S...</td>\n",
       "      <td>0 - 1,0 - 1,0 - 1,1 - 0,0 - 1,0 - 1,0 - 1,1 - ...</td>\n",
       "      <td>VIT,MAD, • , • ,SK,BDS, • , • ,XL,MSF, • , • ,...</td>\n",
       "    </tr>\n",
       "    <tr>\n",
       "      <th>3</th>\n",
       "      <td>https://lol.fandom.com/wiki/LEC/2022_Season/Sp...</td>\n",
       "      <td>VODs &amp; Match Links,Week 1,Week 2,Week 3,Week 4...</td>\n",
       "      <td>12.1,12.1,12.2,12.2,12.3,12.3,12.4,12.4</td>\n",
       "      <td>VIT,MAD,SK,RGE,G2,XL,MSF,AST,BDS,FNC,RGE,MSF,B...</td>\n",
       "      <td>0 - 1,0 - 1,1 - 0,1 - 0,0 - 1,1 - 0,1 - 0,1 - ...</td>\n",
       "      <td>MAD,VIT, • , • ,RGE,SK, • , • ,XL,G2, • , • ,A...</td>\n",
       "    </tr>\n",
       "    <tr>\n",
       "      <th>4</th>\n",
       "      <td>https://lol.fandom.com/wiki/LEC/2021_Season/Sp...</td>\n",
       "      <td>VODs &amp; Match Links,Week 1,Week 2,Week 3,Week 4...</td>\n",
       "      <td>11.1,11.2,11.2,11.3,11.3,11.4,11.4,11.5</td>\n",
       "      <td>G2,MAD,AST,SK,RGE,XL,VIT,S04,MSF,FNC,S04,XL,VI...</td>\n",
       "      <td>1 - 0,0 - 1,1 - 0,0 - 1,1 - 0,0 - 1,1 - 0,1 - ...</td>\n",
       "      <td>G2,MAD, • , • ,AST,SK, • , • ,RGE,XL, • , • ,V...</td>\n",
       "    </tr>\n",
       "    <tr>\n",
       "      <th>5</th>\n",
       "      <td>https://lol.fandom.com/wiki/LEC/2021_Season/Su...</td>\n",
       "      <td>VODs &amp; Match Links,Week 1,Week 2,Week 3,Week 4...</td>\n",
       "      <td>11.11,11.12,11.12,11.13,11.13,11.14,11.14,11.15</td>\n",
       "      <td>MAD,G2,SK,AST,RGE,XL,VIT,S04,MSF,FNC,XL,AST,SK...</td>\n",
       "      <td>0 - 1,0 - 1,1 - 0,1 - 0,1 - 0,0 - 1,0 - 1,0 - ...</td>\n",
       "      <td>G2,MAD, • , • ,AST,SK, • , • ,RGE,XL, • , • ,S...</td>\n",
       "    </tr>\n",
       "  </tbody>\n",
       "</table>\n",
       "</div>"
      ],
      "text/plain": [
       "                                                 url  \\\n",
       "0  https://lol.fandom.com/wiki/LEC/2020_Season/Sp...   \n",
       "1  https://lol.fandom.com/wiki/LEC/2020_Season/Su...   \n",
       "2  https://lol.fandom.com/wiki/LEC/2022_Season/Su...   \n",
       "3  https://lol.fandom.com/wiki/LEC/2022_Season/Sp...   \n",
       "4  https://lol.fandom.com/wiki/LEC/2021_Season/Sp...   \n",
       "5  https://lol.fandom.com/wiki/LEC/2021_Season/Su...   \n",
       "\n",
       "                                                week  \\\n",
       "0                                                NaN   \n",
       "1                                                NaN   \n",
       "2  VODs & Match Links,Week 1,Week 2,Week 3,Week 4...   \n",
       "3  VODs & Match Links,Week 1,Week 2,Week 3,Week 4...   \n",
       "4  VODs & Match Links,Week 1,Week 2,Week 3,Week 4...   \n",
       "5  VODs & Match Links,Week 1,Week 2,Week 3,Week 4...   \n",
       "\n",
       "                                               patch  \\\n",
       "0       10.1,10.2,10.2,10.3,10.3,10.4,10.4,10.5,10.6   \n",
       "1    10.11,10.12,10.12,10.13,10.14,10.14,10.15,10.15   \n",
       "2  12.11,12.11,12.12,12.12,12.13,12.13,12.14,12.1...   \n",
       "3            12.1,12.1,12.2,12.2,12.3,12.3,12.4,12.4   \n",
       "4            11.1,11.2,11.2,11.3,11.3,11.4,11.4,11.5   \n",
       "5    11.11,11.12,11.12,11.13,11.13,11.14,11.14,11.15   \n",
       "\n",
       "                                              Team 1  \\\n",
       "0  G2,MAD,VIT,SK,MSF,RGE,S04,XL,FNC,OG,VIT,MAD,RG...   \n",
       "1  MAD,G2,VIT,S04,OG,SK,RGE,XL,MSF,FNC,S04,SK,RGE...   \n",
       "2  VIT,MAD,BDS,SK,MSF,XL,G2,AST,RGE,FNC,BDS,AST,S...   \n",
       "3  VIT,MAD,SK,RGE,G2,XL,MSF,AST,BDS,FNC,RGE,MSF,B...   \n",
       "4  G2,MAD,AST,SK,RGE,XL,VIT,S04,MSF,FNC,S04,XL,VI...   \n",
       "5  MAD,G2,SK,AST,RGE,XL,VIT,S04,MSF,FNC,XL,AST,SK...   \n",
       "\n",
       "                                              team 2  \\\n",
       "0  1 - 0,0 - 1,0 - 1,0 - 1,0 - 1,0 - 1,1 - 0,0 - ...   \n",
       "1  0 - 1,1 - 0,0 - 1,1 - 0,0 - 1,0 - 1,1 - 0,0 - ...   \n",
       "2  0 - 1,0 - 1,0 - 1,1 - 0,0 - 1,0 - 1,0 - 1,1 - ...   \n",
       "3  0 - 1,0 - 1,1 - 0,1 - 0,0 - 1,1 - 0,1 - 0,1 - ...   \n",
       "4  1 - 0,0 - 1,1 - 0,0 - 1,1 - 0,0 - 1,1 - 0,1 - ...   \n",
       "5  0 - 1,0 - 1,1 - 0,1 - 0,1 - 0,0 - 1,0 - 1,0 - ...   \n",
       "\n",
       "                                                Side  \n",
       "0  G2,MAD, • , • , • ,SK,VIT, • , • , • ,RGE,MSF,...  \n",
       "1  G2,MAD, • , • , • ,VIT,S04, • , • , • ,SK,OG, ...  \n",
       "2  VIT,MAD, • , • ,SK,BDS, • , • ,XL,MSF, • , • ,...  \n",
       "3  MAD,VIT, • , • ,RGE,SK, • , • ,XL,G2, • , • ,A...  \n",
       "4  G2,MAD, • , • ,AST,SK, • , • ,RGE,XL, • , • ,V...  \n",
       "5  G2,MAD, • , • ,AST,SK, • , • ,RGE,XL, • , • ,S...  "
      ]
     },
     "execution_count": 7,
     "metadata": {},
     "output_type": "execute_result"
    }
   ],
   "source": [
    "df"
   ]
  },
  {
   "cell_type": "code",
   "execution_count": 8,
   "metadata": {},
   "outputs": [
    {
     "data": {
      "text/plain": [
       "0    1 - 0,0 - 1,0 - 1,0 - 1,0 - 1,0 - 1,1 - 0,0 - ...\n",
       "1    0 - 1,1 - 0,0 - 1,1 - 0,0 - 1,0 - 1,1 - 0,0 - ...\n",
       "2    0 - 1,0 - 1,0 - 1,1 - 0,0 - 1,0 - 1,0 - 1,1 - ...\n",
       "3    0 - 1,0 - 1,1 - 0,1 - 0,0 - 1,1 - 0,1 - 0,1 - ...\n",
       "4    1 - 0,0 - 1,1 - 0,0 - 1,1 - 0,0 - 1,1 - 0,1 - ...\n",
       "5    0 - 1,0 - 1,1 - 0,1 - 0,1 - 0,0 - 1,0 - 1,0 - ...\n",
       "Name: team 2, dtype: object"
      ]
     },
     "execution_count": 8,
     "metadata": {},
     "output_type": "execute_result"
    }
   ],
   "source": [
    "df[\"team 2\"]"
   ]
  },
  {
   "cell_type": "code",
   "execution_count": null,
   "metadata": {},
   "outputs": [],
   "source": []
  }
 ],
 "metadata": {
  "kernelspec": {
   "display_name": "Python 3.10.4 ('venv': venv)",
   "language": "python",
   "name": "python3"
  },
  "language_info": {
   "codemirror_mode": {
    "name": "ipython",
    "version": 3
   },
   "file_extension": ".py",
   "mimetype": "text/x-python",
   "name": "python",
   "nbconvert_exporter": "python",
   "pygments_lexer": "ipython3",
   "version": "3.10.4"
  },
  "orig_nbformat": 4,
  "vscode": {
   "interpreter": {
    "hash": "d31e0af209c1257fe2fc6551edf3deb1b09080d552bb2a6f48939162a37c14c5"
   }
  }
 },
 "nbformat": 4,
 "nbformat_minor": 2
}
